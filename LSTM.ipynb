{
  "cells": [
    {
      "cell_type": "code",
      "execution_count": 1,
      "metadata": {
        "id": "8Qp35o5ydjzR"
      },
      "outputs": [],
      "source": [
        "import pandas as pd\n",
        "import matplotlib.pyplot as plt\n",
        "import math\n",
        "import numpy as np\n",
        "from sklearn.preprocessing import MinMaxScaler\n",
        "import matplotlib.dates as mdates"
      ]
    },
    {
      "cell_type": "code",
      "execution_count": 2,
      "metadata": {
        "id": "lWayS8gO8z2E"
      },
      "outputs": [],
      "source": [
        "from keras.models import Sequential\n",
        "from keras.layers import LSTM\n",
        "from keras.layers import Dropout\n",
        "from keras.layers import Dense\n",
        "from keras.optimizers import Adam"
      ]
    },
    {
      "cell_type": "code",
      "execution_count": 5,
      "metadata": {
        "colab": {
          "base_uri": "https://localhost:8080/",
          "height": 206
        },
        "id": "yW8QwVTi6UiC",
        "outputId": "4ed632e9-f2f5-466f-87dc-975e5a0a36d4"
      },
      "outputs": [
        {
          "data": {
            "text/html": [
              "\n",
              "  <div id=\"df-cea96ef0-2e6d-439f-a51d-9a6365a3c43a\" class=\"colab-df-container\">\n",
              "    <div>\n",
              "<style scoped>\n",
              "    .dataframe tbody tr th:only-of-type {\n",
              "        vertical-align: middle;\n",
              "    }\n",
              "\n",
              "    .dataframe tbody tr th {\n",
              "        vertical-align: top;\n",
              "    }\n",
              "\n",
              "    .dataframe thead th {\n",
              "        text-align: right;\n",
              "    }\n",
              "</style>\n",
              "<table border=\"1\" class=\"dataframe\">\n",
              "  <thead>\n",
              "    <tr style=\"text-align: right;\">\n",
              "      <th></th>\n",
              "      <th>Date</th>\n",
              "      <th>Open</th>\n",
              "      <th>High</th>\n",
              "      <th>Low</th>\n",
              "      <th>Close</th>\n",
              "      <th>Adj Close</th>\n",
              "      <th>Volume</th>\n",
              "    </tr>\n",
              "  </thead>\n",
              "  <tbody>\n",
              "    <tr>\n",
              "      <th>0</th>\n",
              "      <td>2022-03-04</td>\n",
              "      <td>6921.315918</td>\n",
              "      <td>6936.988770</td>\n",
              "      <td>6895.730957</td>\n",
              "      <td>6928.328125</td>\n",
              "      <td>6928.328125</td>\n",
              "      <td>247492300</td>\n",
              "    </tr>\n",
              "    <tr>\n",
              "      <th>1</th>\n",
              "      <td>2022-03-07</td>\n",
              "      <td>6905.324219</td>\n",
              "      <td>6917.933105</td>\n",
              "      <td>6843.812012</td>\n",
              "      <td>6869.065918</td>\n",
              "      <td>6869.065918</td>\n",
              "      <td>261271800</td>\n",
              "    </tr>\n",
              "    <tr>\n",
              "      <th>2</th>\n",
              "      <td>2022-03-08</td>\n",
              "      <td>6895.630859</td>\n",
              "      <td>6929.862793</td>\n",
              "      <td>6814.183105</td>\n",
              "      <td>6814.183105</td>\n",
              "      <td>6814.183105</td>\n",
              "      <td>246218500</td>\n",
              "    </tr>\n",
              "    <tr>\n",
              "      <th>3</th>\n",
              "      <td>2022-03-09</td>\n",
              "      <td>6836.671875</td>\n",
              "      <td>6888.930176</td>\n",
              "      <td>6824.090820</td>\n",
              "      <td>6864.440918</td>\n",
              "      <td>6864.440918</td>\n",
              "      <td>209971800</td>\n",
              "    </tr>\n",
              "    <tr>\n",
              "      <th>4</th>\n",
              "      <td>2022-03-10</td>\n",
              "      <td>6897.174805</td>\n",
              "      <td>6924.007813</td>\n",
              "      <td>6837.725098</td>\n",
              "      <td>6924.007813</td>\n",
              "      <td>6924.007813</td>\n",
              "      <td>194071700</td>\n",
              "    </tr>\n",
              "  </tbody>\n",
              "</table>\n",
              "</div>\n",
              "    <div class=\"colab-df-buttons\">\n",
              "\n",
              "  <div class=\"colab-df-container\">\n",
              "    <button class=\"colab-df-convert\" onclick=\"convertToInteractive('df-cea96ef0-2e6d-439f-a51d-9a6365a3c43a')\"\n",
              "            title=\"Convert this dataframe to an interactive table.\"\n",
              "            style=\"display:none;\">\n",
              "\n",
              "  <svg xmlns=\"http://www.w3.org/2000/svg\" height=\"24px\" viewBox=\"0 -960 960 960\">\n",
              "    <path d=\"M120-120v-720h720v720H120Zm60-500h600v-160H180v160Zm220 220h160v-160H400v160Zm0 220h160v-160H400v160ZM180-400h160v-160H180v160Zm440 0h160v-160H620v160ZM180-180h160v-160H180v160Zm440 0h160v-160H620v160Z\"/>\n",
              "  </svg>\n",
              "    </button>\n",
              "\n",
              "  <style>\n",
              "    .colab-df-container {\n",
              "      display:flex;\n",
              "      gap: 12px;\n",
              "    }\n",
              "\n",
              "    .colab-df-convert {\n",
              "      background-color: #E8F0FE;\n",
              "      border: none;\n",
              "      border-radius: 50%;\n",
              "      cursor: pointer;\n",
              "      display: none;\n",
              "      fill: #1967D2;\n",
              "      height: 32px;\n",
              "      padding: 0 0 0 0;\n",
              "      width: 32px;\n",
              "    }\n",
              "\n",
              "    .colab-df-convert:hover {\n",
              "      background-color: #E2EBFA;\n",
              "      box-shadow: 0px 1px 2px rgba(60, 64, 67, 0.3), 0px 1px 3px 1px rgba(60, 64, 67, 0.15);\n",
              "      fill: #174EA6;\n",
              "    }\n",
              "\n",
              "    .colab-df-buttons div {\n",
              "      margin-bottom: 4px;\n",
              "    }\n",
              "\n",
              "    [theme=dark] .colab-df-convert {\n",
              "      background-color: #3B4455;\n",
              "      fill: #D2E3FC;\n",
              "    }\n",
              "\n",
              "    [theme=dark] .colab-df-convert:hover {\n",
              "      background-color: #434B5C;\n",
              "      box-shadow: 0px 1px 3px 1px rgba(0, 0, 0, 0.15);\n",
              "      filter: drop-shadow(0px 1px 2px rgba(0, 0, 0, 0.3));\n",
              "      fill: #FFFFFF;\n",
              "    }\n",
              "  </style>\n",
              "\n",
              "    <script>\n",
              "      const buttonEl =\n",
              "        document.querySelector('#df-cea96ef0-2e6d-439f-a51d-9a6365a3c43a button.colab-df-convert');\n",
              "      buttonEl.style.display =\n",
              "        google.colab.kernel.accessAllowed ? 'block' : 'none';\n",
              "\n",
              "      async function convertToInteractive(key) {\n",
              "        const element = document.querySelector('#df-cea96ef0-2e6d-439f-a51d-9a6365a3c43a');\n",
              "        const dataTable =\n",
              "          await google.colab.kernel.invokeFunction('convertToInteractive',\n",
              "                                                    [key], {});\n",
              "        if (!dataTable) return;\n",
              "\n",
              "        const docLinkHtml = 'Like what you see? Visit the ' +\n",
              "          '<a target=\"_blank\" href=https://colab.research.google.com/notebooks/data_table.ipynb>data table notebook</a>'\n",
              "          + ' to learn more about interactive tables.';\n",
              "        element.innerHTML = '';\n",
              "        dataTable['output_type'] = 'display_data';\n",
              "        await google.colab.output.renderOutput(dataTable, element);\n",
              "        const docLink = document.createElement('div');\n",
              "        docLink.innerHTML = docLinkHtml;\n",
              "        element.appendChild(docLink);\n",
              "      }\n",
              "    </script>\n",
              "  </div>\n",
              "\n",
              "\n",
              "<div id=\"df-d96701be-d058-420d-91d3-92fa41339d06\">\n",
              "  <button class=\"colab-df-quickchart\" onclick=\"quickchart('df-d96701be-d058-420d-91d3-92fa41339d06')\"\n",
              "            title=\"Suggest charts.\"\n",
              "            style=\"display:none;\">\n",
              "\n",
              "<svg xmlns=\"http://www.w3.org/2000/svg\" height=\"24px\"viewBox=\"0 0 24 24\"\n",
              "     width=\"24px\">\n",
              "    <g>\n",
              "        <path d=\"M19 3H5c-1.1 0-2 .9-2 2v14c0 1.1.9 2 2 2h14c1.1 0 2-.9 2-2V5c0-1.1-.9-2-2-2zM9 17H7v-7h2v7zm4 0h-2V7h2v10zm4 0h-2v-4h2v4z\"/>\n",
              "    </g>\n",
              "</svg>\n",
              "  </button>\n",
              "\n",
              "<style>\n",
              "  .colab-df-quickchart {\n",
              "      --bg-color: #E8F0FE;\n",
              "      --fill-color: #1967D2;\n",
              "      --hover-bg-color: #E2EBFA;\n",
              "      --hover-fill-color: #174EA6;\n",
              "      --disabled-fill-color: #AAA;\n",
              "      --disabled-bg-color: #DDD;\n",
              "  }\n",
              "\n",
              "  [theme=dark] .colab-df-quickchart {\n",
              "      --bg-color: #3B4455;\n",
              "      --fill-color: #D2E3FC;\n",
              "      --hover-bg-color: #434B5C;\n",
              "      --hover-fill-color: #FFFFFF;\n",
              "      --disabled-bg-color: #3B4455;\n",
              "      --disabled-fill-color: #666;\n",
              "  }\n",
              "\n",
              "  .colab-df-quickchart {\n",
              "    background-color: var(--bg-color);\n",
              "    border: none;\n",
              "    border-radius: 50%;\n",
              "    cursor: pointer;\n",
              "    display: none;\n",
              "    fill: var(--fill-color);\n",
              "    height: 32px;\n",
              "    padding: 0;\n",
              "    width: 32px;\n",
              "  }\n",
              "\n",
              "  .colab-df-quickchart:hover {\n",
              "    background-color: var(--hover-bg-color);\n",
              "    box-shadow: 0 1px 2px rgba(60, 64, 67, 0.3), 0 1px 3px 1px rgba(60, 64, 67, 0.15);\n",
              "    fill: var(--button-hover-fill-color);\n",
              "  }\n",
              "\n",
              "  .colab-df-quickchart-complete:disabled,\n",
              "  .colab-df-quickchart-complete:disabled:hover {\n",
              "    background-color: var(--disabled-bg-color);\n",
              "    fill: var(--disabled-fill-color);\n",
              "    box-shadow: none;\n",
              "  }\n",
              "\n",
              "  .colab-df-spinner {\n",
              "    border: 2px solid var(--fill-color);\n",
              "    border-color: transparent;\n",
              "    border-bottom-color: var(--fill-color);\n",
              "    animation:\n",
              "      spin 1s steps(1) infinite;\n",
              "  }\n",
              "\n",
              "  @keyframes spin {\n",
              "    0% {\n",
              "      border-color: transparent;\n",
              "      border-bottom-color: var(--fill-color);\n",
              "      border-left-color: var(--fill-color);\n",
              "    }\n",
              "    20% {\n",
              "      border-color: transparent;\n",
              "      border-left-color: var(--fill-color);\n",
              "      border-top-color: var(--fill-color);\n",
              "    }\n",
              "    30% {\n",
              "      border-color: transparent;\n",
              "      border-left-color: var(--fill-color);\n",
              "      border-top-color: var(--fill-color);\n",
              "      border-right-color: var(--fill-color);\n",
              "    }\n",
              "    40% {\n",
              "      border-color: transparent;\n",
              "      border-right-color: var(--fill-color);\n",
              "      border-top-color: var(--fill-color);\n",
              "    }\n",
              "    60% {\n",
              "      border-color: transparent;\n",
              "      border-right-color: var(--fill-color);\n",
              "    }\n",
              "    80% {\n",
              "      border-color: transparent;\n",
              "      border-right-color: var(--fill-color);\n",
              "      border-bottom-color: var(--fill-color);\n",
              "    }\n",
              "    90% {\n",
              "      border-color: transparent;\n",
              "      border-bottom-color: var(--fill-color);\n",
              "    }\n",
              "  }\n",
              "</style>\n",
              "\n",
              "  <script>\n",
              "    async function quickchart(key) {\n",
              "      const quickchartButtonEl =\n",
              "        document.querySelector('#' + key + ' button');\n",
              "      quickchartButtonEl.disabled = true;  // To prevent multiple clicks.\n",
              "      quickchartButtonEl.classList.add('colab-df-spinner');\n",
              "      try {\n",
              "        const charts = await google.colab.kernel.invokeFunction(\n",
              "            'suggestCharts', [key], {});\n",
              "      } catch (error) {\n",
              "        console.error('Error during call to suggestCharts:', error);\n",
              "      }\n",
              "      quickchartButtonEl.classList.remove('colab-df-spinner');\n",
              "      quickchartButtonEl.classList.add('colab-df-quickchart-complete');\n",
              "    }\n",
              "    (() => {\n",
              "      let quickchartButtonEl =\n",
              "        document.querySelector('#df-d96701be-d058-420d-91d3-92fa41339d06 button');\n",
              "      quickchartButtonEl.style.display =\n",
              "        google.colab.kernel.accessAllowed ? 'block' : 'none';\n",
              "    })();\n",
              "  </script>\n",
              "</div>\n",
              "    </div>\n",
              "  </div>\n"
            ],
            "text/plain": [
              "         Date         Open         High          Low        Close  \\\n",
              "0  2022-03-04  6921.315918  6936.988770  6895.730957  6928.328125   \n",
              "1  2022-03-07  6905.324219  6917.933105  6843.812012  6869.065918   \n",
              "2  2022-03-08  6895.630859  6929.862793  6814.183105  6814.183105   \n",
              "3  2022-03-09  6836.671875  6888.930176  6824.090820  6864.440918   \n",
              "4  2022-03-10  6897.174805  6924.007813  6837.725098  6924.007813   \n",
              "\n",
              "     Adj Close     Volume  \n",
              "0  6928.328125  247492300  \n",
              "1  6869.065918  261271800  \n",
              "2  6814.183105  246218500  \n",
              "3  6864.440918  209971800  \n",
              "4  6924.007813  194071700  "
            ]
          },
          "execution_count": 5,
          "metadata": {},
          "output_type": "execute_result"
        }
      ],
      "source": [
        "path = 'jkse.csv'\n",
        "df = pd.read_csv(path)\n",
        "df.head()"
      ]
    },
    {
      "cell_type": "code",
      "execution_count": 6,
      "metadata": {
        "id": "AFX_qoaWa6Ob"
      },
      "outputs": [],
      "source": [
        "train_count=int(0.7*len(df))\n",
        "test_count=len(df)-train_count"
      ]
    },
    {
      "cell_type": "code",
      "execution_count": 7,
      "metadata": {
        "colab": {
          "base_uri": "https://localhost:8080/"
        },
        "id": "Gchk2zLh-yAI",
        "outputId": "632e7fe1-f1ef-4a99-f49f-76c7c2942540"
      },
      "outputs": [
        {
          "data": {
            "text/plain": [
              "(164, 10, 1)"
            ]
          },
          "execution_count": 7,
          "metadata": {},
          "output_type": "execute_result"
        }
      ],
      "source": [
        "scaler = MinMaxScaler(feature_range=(0,1))\n",
        "\n",
        "scaled = scaler.fit_transform(df['Open'].iloc[:train_count].values.reshape(-1,1))\n",
        "\n",
        "X_train = []\n",
        "y_train = []\n",
        "prediction_days=10\n",
        "\n",
        "for i in range(prediction_days, len(scaled)):\n",
        "  X_train.append(scaled[i-prediction_days:i, 0])\n",
        "  y_train.append(scaled[i, 0])\n",
        "\n",
        "X_train, y_train = np.array(X_train), np.array(y_train)\n",
        "X_train = np.reshape(X_train, (X_train.shape[0], X_train.shape[1], 1))\n",
        "X_train.shape"
      ]
    },
    {
      "cell_type": "code",
      "execution_count": 8,
      "metadata": {
        "id": "m3jJ9rVN8_ph"
      },
      "outputs": [],
      "source": [
        "def makeModel():\n",
        "  model = Sequential()\n",
        "  model.add(LSTM(units=50,return_sequences=True,input_shape=(X_train.shape[1], 1)))\n",
        "  model.add(Dropout(0.1))\n",
        "  model.add(LSTM(units=50,return_sequences=True))\n",
        "  model.add(Dropout(0.1))\n",
        "  model.add(LSTM(units=50))\n",
        "  model.add(Dropout(0.1))\n",
        "  model.add(Dense(units=1))\n",
        "  model.compile(optimizer=Adam(lr=0.001),loss='mean_squared_error')\n",
        "  return model"
      ]
    },
    {
      "cell_type": "code",
      "execution_count": 9,
      "metadata": {
        "colab": {
          "base_uri": "https://localhost:8080/"
        },
        "id": "6ERUEQtZBXHn",
        "outputId": "df24b8d2-20ce-4047-a64f-60facd2fef8b"
      },
      "outputs": [
        {
          "name": "stderr",
          "output_type": "stream",
          "text": [
            "WARNING:absl:`lr` is deprecated in Keras optimizer, please use `learning_rate` or use the legacy optimizer, e.g.,tf.keras.optimizers.legacy.Adam.\n"
          ]
        },
        {
          "name": "stdout",
          "output_type": "stream",
          "text": [
            "Epoch 1/50\n",
            "41/41 [==============================] - 12s 10ms/step - loss: 0.0851\n",
            "Epoch 2/50\n",
            "41/41 [==============================] - 0s 10ms/step - loss: 0.0439\n",
            "Epoch 3/50\n",
            "41/41 [==============================] - 0s 11ms/step - loss: 0.0388\n",
            "Epoch 4/50\n",
            "41/41 [==============================] - 0s 10ms/step - loss: 0.0376\n",
            "Epoch 5/50\n",
            "41/41 [==============================] - 0s 10ms/step - loss: 0.0410\n",
            "Epoch 6/50\n",
            "41/41 [==============================] - 0s 10ms/step - loss: 0.0362\n",
            "Epoch 7/50\n",
            "41/41 [==============================] - 0s 12ms/step - loss: 0.0332\n",
            "Epoch 8/50\n",
            "41/41 [==============================] - 0s 11ms/step - loss: 0.0336\n",
            "Epoch 9/50\n",
            "41/41 [==============================] - 0s 10ms/step - loss: 0.0268\n",
            "Epoch 10/50\n",
            "41/41 [==============================] - 0s 10ms/step - loss: 0.0229\n",
            "Epoch 11/50\n",
            "41/41 [==============================] - 0s 8ms/step - loss: 0.0249\n",
            "Epoch 12/50\n",
            "41/41 [==============================] - 0s 8ms/step - loss: 0.0187\n",
            "Epoch 13/50\n",
            "41/41 [==============================] - 0s 8ms/step - loss: 0.0188\n",
            "Epoch 14/50\n",
            "41/41 [==============================] - 0s 8ms/step - loss: 0.0158\n",
            "Epoch 15/50\n",
            "41/41 [==============================] - 0s 8ms/step - loss: 0.0164\n",
            "Epoch 16/50\n",
            "41/41 [==============================] - 0s 8ms/step - loss: 0.0242\n",
            "Epoch 17/50\n",
            "41/41 [==============================] - 0s 8ms/step - loss: 0.0233\n",
            "Epoch 18/50\n",
            "41/41 [==============================] - 0s 8ms/step - loss: 0.0171\n",
            "Epoch 19/50\n",
            "41/41 [==============================] - 0s 8ms/step - loss: 0.0161\n",
            "Epoch 20/50\n",
            "41/41 [==============================] - 0s 8ms/step - loss: 0.0137\n",
            "Epoch 21/50\n",
            "41/41 [==============================] - 0s 8ms/step - loss: 0.0152\n",
            "Epoch 22/50\n",
            "41/41 [==============================] - 0s 8ms/step - loss: 0.0145\n",
            "Epoch 23/50\n",
            "41/41 [==============================] - 0s 8ms/step - loss: 0.0144\n",
            "Epoch 24/50\n",
            "41/41 [==============================] - 0s 8ms/step - loss: 0.0154\n",
            "Epoch 25/50\n",
            "41/41 [==============================] - 0s 8ms/step - loss: 0.0153\n",
            "Epoch 26/50\n",
            "41/41 [==============================] - 0s 9ms/step - loss: 0.0144\n",
            "Epoch 27/50\n",
            "41/41 [==============================] - 0s 8ms/step - loss: 0.0135\n",
            "Epoch 28/50\n",
            "41/41 [==============================] - 0s 8ms/step - loss: 0.0136\n",
            "Epoch 29/50\n",
            "41/41 [==============================] - 0s 8ms/step - loss: 0.0146\n",
            "Epoch 30/50\n",
            "41/41 [==============================] - 0s 8ms/step - loss: 0.0116\n",
            "Epoch 31/50\n",
            "41/41 [==============================] - 0s 7ms/step - loss: 0.0128\n",
            "Epoch 32/50\n",
            "41/41 [==============================] - 0s 8ms/step - loss: 0.0107\n",
            "Epoch 33/50\n",
            "41/41 [==============================] - 0s 8ms/step - loss: 0.0134\n",
            "Epoch 34/50\n",
            "41/41 [==============================] - 0s 7ms/step - loss: 0.0112\n",
            "Epoch 35/50\n",
            "41/41 [==============================] - 0s 7ms/step - loss: 0.0123\n",
            "Epoch 36/50\n",
            "41/41 [==============================] - 0s 7ms/step - loss: 0.0124\n",
            "Epoch 37/50\n",
            "41/41 [==============================] - 0s 7ms/step - loss: 0.0114\n",
            "Epoch 38/50\n",
            "41/41 [==============================] - 0s 8ms/step - loss: 0.0125\n",
            "Epoch 39/50\n",
            "41/41 [==============================] - 0s 7ms/step - loss: 0.0115\n",
            "Epoch 40/50\n",
            "41/41 [==============================] - 0s 8ms/step - loss: 0.0108\n",
            "Epoch 41/50\n",
            "41/41 [==============================] - 0s 11ms/step - loss: 0.0136\n",
            "Epoch 42/50\n",
            "41/41 [==============================] - 0s 10ms/step - loss: 0.0114\n",
            "Epoch 43/50\n",
            "41/41 [==============================] - 0s 10ms/step - loss: 0.0109\n",
            "Epoch 44/50\n",
            "41/41 [==============================] - 0s 10ms/step - loss: 0.0092\n",
            "Epoch 45/50\n",
            "41/41 [==============================] - 0s 10ms/step - loss: 0.0098\n",
            "Epoch 46/50\n",
            "41/41 [==============================] - 0s 9ms/step - loss: 0.0105\n",
            "Epoch 47/50\n",
            "41/41 [==============================] - 0s 11ms/step - loss: 0.0127\n",
            "Epoch 48/50\n",
            "41/41 [==============================] - 0s 10ms/step - loss: 0.0113\n",
            "Epoch 49/50\n",
            "41/41 [==============================] - 0s 10ms/step - loss: 0.0115\n",
            "Epoch 50/50\n",
            "41/41 [==============================] - 0s 10ms/step - loss: 0.0120\n"
          ]
        },
        {
          "data": {
            "text/plain": [
              "<keras.src.callbacks.History at 0x7aa63ff53190>"
            ]
          },
          "execution_count": 9,
          "metadata": {},
          "output_type": "execute_result"
        }
      ],
      "source": [
        "model=makeModel()\n",
        "model.fit(X_train,y_train,epochs=50,batch_size=4)"
      ]
    },
    {
      "cell_type": "code",
      "execution_count": 10,
      "metadata": {
        "colab": {
          "base_uri": "https://localhost:8080/"
        },
        "id": "LSR0QcNRCKJ8",
        "outputId": "c1c4f46d-11a7-4b12-af79-39843e22fbb5"
      },
      "outputs": [
        {
          "data": {
            "text/plain": [
              "(65, 10, 1)"
            ]
          },
          "execution_count": 10,
          "metadata": {},
          "output_type": "execute_result"
        }
      ],
      "source": [
        "scaled_test = scaler.fit_transform(df['Open'].iloc[train_count:].values.reshape(-1,1))\n",
        "\n",
        "X_test = []\n",
        "for i in range(prediction_days, len(scaled_test)):\n",
        "  X_test.append(scaled_test[i-prediction_days:i, 0])\n",
        "\n",
        "\n",
        "X_test = np.array(X_test)\n",
        "X_test = np.reshape(X_test, (X_test.shape[0], X_test.shape[1] ,1))\n",
        "X_test.shape"
      ]
    },
    {
      "cell_type": "code",
      "execution_count": 11,
      "metadata": {
        "colab": {
          "base_uri": "https://localhost:8080/"
        },
        "id": "tPCJqkGiE7kY",
        "outputId": "7592ab46-cb10-4c2c-e267-10dfb9fc1056"
      },
      "outputs": [
        {
          "name": "stdout",
          "output_type": "stream",
          "text": [
            "3/3 [==============================] - 1s 6ms/step\n"
          ]
        }
      ],
      "source": [
        "predicted_prices = model.predict(X_test)\n",
        "predicted_prices = scaler.inverse_transform(predicted_prices)"
      ]
    },
    {
      "cell_type": "code",
      "execution_count": 12,
      "metadata": {
        "colab": {
          "base_uri": "https://localhost:8080/",
          "height": 508
        },
        "id": "hV7xpxuoFiu3",
        "outputId": "a422458b-9a10-4aa8-8f45-97400984f4c2"
      },
      "outputs": [
        {
          "data": {
            "image/png": "[encoded data removed]",
            "text/plain": [
              "<Figure size 1000x500 with 1 Axes>"
            ]
          },
          "metadata": {},
          "output_type": "display_data"
        }
      ],
      "source": [
        "actual_prices = df['Open'].values\n",
        "\n",
        "plt.figure(figsize=(10,5))\n",
        "\n",
        "plt.gca().xaxis.set_major_locator(mdates.DayLocator(interval=10))\n",
        "plt.gcf().autofmt_xdate()\n",
        "\n",
        "plt.plot(df[\"Date\"], actual_prices, color='green', label=\"Actual price\")\n",
        "plt.plot(df[\"Date\"].iloc[train_count+prediction_days:], predicted_prices, color= 'red', label=\"Predicted price\")\n",
        "plt.title(\"share price\")\n",
        "plt.xlabel(\"Date\")\n",
        "plt.ylabel(\"Open price\")\n",
        "plt.legend()\n",
        "plt.xticks(rotation=90)\n",
        "\n",
        "plt.show()"
      ]
    },
    {
      "cell_type": "code",
      "execution_count": 13,
      "metadata": {
        "colab": {
          "base_uri": "https://localhost:8080/"
        },
        "id": "ll_AJr_QtcL7",
        "outputId": "1c357a63-fecb-47df-906b-eb37392f15ed"
      },
      "outputs": [
        {
          "name": "stdout",
          "output_type": "stream",
          "text": [
            "MAPE: 0.505%\n",
            "RMSE: 46.661\n"
          ]
        }
      ],
      "source": [
        "from sklearn.metrics import mean_squared_error, mean_absolute_percentage_error\n",
        "MSE = mean_squared_error(actual_prices[prediction_days+train_count:], predicted_prices)\n",
        "RMSE = math.sqrt(MSE)\n",
        "MAPE = mean_absolute_percentage_error(actual_prices[prediction_days+train_count:], predicted_prices)\n",
        "# print(\"%.2f\" % MAPE*100)\n",
        "print(\"MAPE: {:.3f}%\".format(MAPE*100))\n",
        "print(\"RMSE: {:.3f}\".format(RMSE))"
      ]
    }
  ],
  "metadata": {
    "accelerator": "GPU",
    "colab": {
      "provenance": []
    },
    "gpuClass": "standard",
    "kernelspec": {
      "display_name": "Python 3",
      "name": "python3"
    },
    "language_info": {
      "name": "python"
    }
  },
  "nbformat": 4,
  "nbformat_minor": 0
}
